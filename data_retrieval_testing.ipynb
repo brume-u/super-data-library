{
 "cells": [
  {
   "cell_type": "markdown",
   "metadata": {},
   "source": [
    "# Testing our Data Infrastructure."
   ]
  },
  {
   "cell_type": "markdown",
   "metadata": {},
   "source": [
    "In this notebook, we test that the Data library is working as proposed. When we call get pricing on a list of symbols or a singleton symbol a Pandas Datafram or Series should be returned respectively."
   ]
  },
  {
   "cell_type": "code",
   "execution_count": 6,
   "metadata": {},
   "outputs": [],
   "source": [
    "import time\n",
    "import datetime\n",
    "import random\n",
    "import json\n",
    "\n",
    "import pandas as pd\n",
    "import numpy as np\n",
    "import matplotlib.pyplot as plt\n",
    "\n",
    "import scraper\n",
    "import retrieve_data\n",
    "\n",
    "# This creates a get_pricing function that uses Alpha Vantage as a source for data and my MySQL database\n",
    "# for data storage and retrieval\n",
    "pipeline = retrieve_data.PricePipeline()\n",
    "get_pricing = pipeline.get_pricing\n"
   ]
  },
  {
   "cell_type": "markdown",
   "metadata": {},
   "source": [
    "We can load the dictionaries that take Industries and Sectors to their S&P500 constituent stocks from our json file that was generated using the scraper.py "
   ]
  },
  {
   "cell_type": "code",
   "execution_count": 6,
   "metadata": {},
   "outputs": [],
   "source": [
    "with open('industry_to_stocks') as f:\n",
    "    industry_to_stocks = json.load(f)\n",
    "\n",
    "with open('sector_to_stocks') as f:\n",
    "    sector_to_stocks = json.load(f)\n",
    "    \n",
    "with open('sp500') as f:\n",
    "     sp500 = json.load(f)\n",
    "\n",
    "with open('date_joined') as f:\n",
    "    symbol_to_date_joined = json.load(f)"
   ]
  },
  {
   "cell_type": "markdown",
   "metadata": {},
   "source": [
    "If this is out-of-date, uncomment and use the following:"
   ]
  },
  {
   "cell_type": "code",
   "execution_count": 7,
   "metadata": {
    "scrolled": false
   },
   "outputs": [],
   "source": [
    "# sp500 = scraper.sp500\n",
    "# symbol_to_date_joined = scraper.symbol_to_date_joined\n",
    "# sector_to_stocks = scraper.sector_to_stocks\n",
    "# industry_to_stocks = scraper.industry_to_stocks\n",
    "\n",
    "# # You can use the following code to store these dictionaries as JSON files for future use and import them using\n",
    "# # the code in the cell above.\n",
    "\n",
    "# with open('sector_to_stocks', 'w') as f:\n",
    "#     json.dump(sector_to_stocks, f)\n",
    "\n",
    "# with open('industry_to_stocks', 'w') as f:\n",
    "#     json.dump(industry_to_stocks, f)\n",
    "\n",
    "# with open('sp500', 'w') as f:\n",
    "#     json.dump(sp500, f)\n",
    "\n",
    "# with open('date_joined', 'w') as f:\n",
    "#     json.dump(symbol_to_date_joined, f)"
   ]
  },
  {
   "cell_type": "markdown",
   "metadata": {},
   "source": [
    "We will now test that our retrieval and storage system works. First we get the list of airline stocks in the S&P500 to inspect."
   ]
  },
  {
   "cell_type": "code",
   "execution_count": 8,
   "metadata": {},
   "outputs": [
    {
     "name": "stdout",
     "output_type": "stream",
     "text": [
      "['ALK', 'AAL', 'DAL', 'LUV', 'UAL']\n"
     ]
    }
   ],
   "source": [
    "start_date = \"2016-01-01\"\n",
    "end_date = \"2016-12-31\"\n",
    "airlines = industry_to_stocks[\"Airlines\"]\n",
    "print(airlines)"
   ]
  },
  {
   "cell_type": "markdown",
   "metadata": {},
   "source": [
    "The function ```relevant_symbols``` as defined below removes stocks that weren't actually part of the S&P500 before the dates we we're interested in. We use this to avoid some data leakage/look-ahead bias (Stocks that weren't in the S&P500 are likely to have risen in price before they were added).\n",
    "\n",
    "Notice how 'ALK' is removed from the list because it joined the S&P500 after 2016-01-01."
   ]
  },
  {
   "cell_type": "code",
   "execution_count": 9,
   "metadata": {},
   "outputs": [
    {
     "name": "stdout",
     "output_type": "stream",
     "text": [
      "['AAL', 'DAL', 'LUV', 'UAL']\n"
     ]
    }
   ],
   "source": [
    "def joined_before_date(symbol, start_date):\n",
    "    join_date = symbol_to_date_joined[symbol]\n",
    "    if join_date == '':\n",
    "        return False\n",
    "    return time.strptime(join_date, \"%Y-%m-%d\") <= time.strptime(start_date, \"%Y-%m-%d\")\n",
    "\n",
    "def relevant_symbols(symbols, start_date):\n",
    "    new_symbols = []\n",
    "    for symbol in symbols:\n",
    "        if joined_before_date(symbol, start_date):\n",
    "            new_symbols.append(symbol)\n",
    "    return new_symbols\n",
    "\n",
    "airlines = relevant_symbols(airlines, start_date)\n",
    "print(airlines)"
   ]
  },
  {
   "cell_type": "markdown",
   "metadata": {},
   "source": [
    "We can now use the `get_pricing` function to return a dataframe containing the daily price data for these stocks between our two given dates. Since I have this in my database already, the function returns the data from a query database. If it wasn't, the data would download from a source, stored in the database, and \"Downloading:\" would be printed instead of \"From db:\"."
   ]
  },
  {
   "cell_type": "code",
   "execution_count": 10,
   "metadata": {},
   "outputs": [
    {
     "name": "stdout",
     "output_type": "stream",
     "text": [
      "From db: AAL\n",
      "From db: DAL\n",
      "From db: LUV\n",
      "From db: UAL\n"
     ]
    },
    {
     "data": {
      "text/html": [
       "<div>\n",
       "<style scoped>\n",
       "    .dataframe tbody tr th:only-of-type {\n",
       "        vertical-align: middle;\n",
       "    }\n",
       "\n",
       "    .dataframe tbody tr th {\n",
       "        vertical-align: top;\n",
       "    }\n",
       "\n",
       "    .dataframe thead th {\n",
       "        text-align: right;\n",
       "    }\n",
       "</style>\n",
       "<table border=\"1\" class=\"dataframe\">\n",
       "  <thead>\n",
       "    <tr style=\"text-align: right;\">\n",
       "      <th></th>\n",
       "      <th>AAL</th>\n",
       "      <th>DAL</th>\n",
       "      <th>LUV</th>\n",
       "      <th>UAL</th>\n",
       "    </tr>\n",
       "    <tr>\n",
       "      <th>date</th>\n",
       "      <th></th>\n",
       "      <th></th>\n",
       "      <th></th>\n",
       "      <th></th>\n",
       "    </tr>\n",
       "  </thead>\n",
       "  <tbody>\n",
       "    <tr>\n",
       "      <td>2016-01-04</td>\n",
       "      <td>39.0926</td>\n",
       "      <td>44.2305</td>\n",
       "      <td>40.0897</td>\n",
       "      <td>55.61</td>\n",
       "    </tr>\n",
       "    <tr>\n",
       "      <td>2016-01-05</td>\n",
       "      <td>38.7199</td>\n",
       "      <td>44.1487</td>\n",
       "      <td>40.5674</td>\n",
       "      <td>55.06</td>\n",
       "    </tr>\n",
       "    <tr>\n",
       "      <td>2016-01-06</td>\n",
       "      <td>39.3984</td>\n",
       "      <td>44.4759</td>\n",
       "      <td>40.9400</td>\n",
       "      <td>55.20</td>\n",
       "    </tr>\n",
       "    <tr>\n",
       "      <td>2016-01-07</td>\n",
       "      <td>38.6530</td>\n",
       "      <td>42.7216</td>\n",
       "      <td>40.0801</td>\n",
       "      <td>52.63</td>\n",
       "    </tr>\n",
       "    <tr>\n",
       "      <td>2016-01-08</td>\n",
       "      <td>38.5766</td>\n",
       "      <td>42.3671</td>\n",
       "      <td>40.3285</td>\n",
       "      <td>51.89</td>\n",
       "    </tr>\n",
       "  </tbody>\n",
       "</table>\n",
       "</div>"
      ],
      "text/plain": [
       "                AAL      DAL      LUV    UAL\n",
       "date                                        \n",
       "2016-01-04  39.0926  44.2305  40.0897  55.61\n",
       "2016-01-05  38.7199  44.1487  40.5674  55.06\n",
       "2016-01-06  39.3984  44.4759  40.9400  55.20\n",
       "2016-01-07  38.6530  42.7216  40.0801  52.63\n",
       "2016-01-08  38.5766  42.3671  40.3285  51.89"
      ]
     },
     "execution_count": 10,
     "metadata": {},
     "output_type": "execute_result"
    }
   ],
   "source": [
    "prices_2016 = get_pricing(airlines, start_date, end_date)\n",
    "prices_2016.head()"
   ]
  },
  {
   "cell_type": "code",
   "execution_count": 11,
   "metadata": {
    "scrolled": true
   },
   "outputs": [
    {
     "data": {
      "text/plain": [
       "<matplotlib.legend.Legend at 0x165d1f59f08>"
      ]
     },
     "execution_count": 11,
     "metadata": {},
     "output_type": "execute_result"
    },
    {
     "data": {
      "image/png": "[encoded data removed]",
      "text/plain": [
       "<Figure size 432x288 with 1 Axes>"
      ]
     },
     "metadata": {
      "needs_background": "light"
     },
     "output_type": "display_data"
    }
   ],
   "source": [
    "prices_2016.plot()\n",
    "plt.legend()"
   ]
  },
  {
   "cell_type": "markdown",
   "metadata": {},
   "source": [
    "Now, we test that the function can accept singletons and can download and store new data. Note that if we call `get_pricing` a second time on the same symbol, it retrieves the desired data from the database instead of downloading it."
   ]
  },
  {
   "cell_type": "code",
   "execution_count": 12,
   "metadata": {},
   "outputs": [
    {
     "name": "stdout",
     "output_type": "stream",
     "text": [
      "Downloading: PPL\n"
     ]
    },
    {
     "data": {
      "text/plain": [
       "date\n",
       "2016-12-30    28.4359\n",
       "2016-12-29    28.6113\n",
       "2016-12-28    28.2772\n",
       "2016-12-27    28.5695\n",
       "2016-12-23    28.6363\n",
       "Name: PPL, dtype: float64"
      ]
     },
     "execution_count": 12,
     "metadata": {},
     "output_type": "execute_result"
    }
   ],
   "source": [
    "get_pricing(\"PPL\", start_date, end_date).head()"
   ]
  },
  {
   "cell_type": "code",
   "execution_count": 13,
   "metadata": {},
   "outputs": [
    {
     "name": "stdout",
     "output_type": "stream",
     "text": [
      "From db: PPL\n"
     ]
    },
    {
     "data": {
      "text/html": [
       "<div>\n",
       "<style scoped>\n",
       "    .dataframe tbody tr th:only-of-type {\n",
       "        vertical-align: middle;\n",
       "    }\n",
       "\n",
       "    .dataframe tbody tr th {\n",
       "        vertical-align: top;\n",
       "    }\n",
       "\n",
       "    .dataframe thead th {\n",
       "        text-align: right;\n",
       "    }\n",
       "</style>\n",
       "<table border=\"1\" class=\"dataframe\">\n",
       "  <thead>\n",
       "    <tr style=\"text-align: right;\">\n",
       "      <th></th>\n",
       "      <th>PPL</th>\n",
       "    </tr>\n",
       "    <tr>\n",
       "      <th>date</th>\n",
       "      <th></th>\n",
       "    </tr>\n",
       "  </thead>\n",
       "  <tbody>\n",
       "    <tr>\n",
       "      <td>2016-01-04</td>\n",
       "      <td>26.9554</td>\n",
       "    </tr>\n",
       "    <tr>\n",
       "      <td>2016-01-05</td>\n",
       "      <td>27.2435</td>\n",
       "    </tr>\n",
       "    <tr>\n",
       "      <td>2016-01-06</td>\n",
       "      <td>27.1554</td>\n",
       "    </tr>\n",
       "    <tr>\n",
       "      <td>2016-01-07</td>\n",
       "      <td>26.8433</td>\n",
       "    </tr>\n",
       "    <tr>\n",
       "      <td>2016-01-08</td>\n",
       "      <td>26.7233</td>\n",
       "    </tr>\n",
       "  </tbody>\n",
       "</table>\n",
       "</div>"
      ],
      "text/plain": [
       "                PPL\n",
       "date               \n",
       "2016-01-04  26.9554\n",
       "2016-01-05  27.2435\n",
       "2016-01-06  27.1554\n",
       "2016-01-07  26.8433\n",
       "2016-01-08  26.7233"
      ]
     },
     "execution_count": 13,
     "metadata": {},
     "output_type": "execute_result"
    }
   ],
   "source": [
    "PPL = get_pricing(\"PPL\", start_date, end_date)\n",
    "PPL.head()"
   ]
  }
 ],
 "metadata": {
  "kernelspec": {
   "display_name": "Python 3",
   "language": "python",
   "name": "python3"
  },
  "language_info": {
   "codemirror_mode": {
    "name": "ipython",
    "version": 3
   },
   "file_extension": ".py",
   "mimetype": "text/x-python",
   "name": "python",
   "nbconvert_exporter": "python",
   "pygments_lexer": "ipython3",
   "version": "3.7.4"
  }
 },
 "nbformat": 4,
 "nbformat_minor": 2
}

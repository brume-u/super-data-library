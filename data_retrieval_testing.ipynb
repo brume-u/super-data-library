{
 "cells": [
  {
   "cell_type": "markdown",
   "metadata": {},
   "source": [
    "# Testing our Data Infrastructure."
   ]
  },
  {
   "cell_type": "markdown",
   "metadata": {},
   "source": [
    "In this notebook, we test that the Data library is working as proposed. When we call get pricing on a list of symbols or a singleton symbol a Pandas Datafram or Series should be returned respectively."
   ]
  },
  {
   "cell_type": "code",
   "execution_count": 1,
   "metadata": {},
   "outputs": [
    {
     "ename": "ValueError",
     "evalue": "The AlphaVantage API key must be provided either through the key parameter or through the environment variable ALPHAVANTAGE_API_KEY. Get a free key from the alphavantage website: https://www.alphavantage.co/support/#api-key",
     "output_type": "error",
     "traceback": [
      "\u001b[1;31m---------------------------------------------------------------------------\u001b[0m",
      "\u001b[1;31mValueError\u001b[0m                                Traceback (most recent call last)",
      "\u001b[1;32m<ipython-input-1-299a43c7dcb6>\u001b[0m in \u001b[0;36m<module>\u001b[1;34m\u001b[0m\n\u001b[0;32m     11\u001b[0m \u001b[1;33m\u001b[0m\u001b[0m\n\u001b[0;32m     12\u001b[0m \u001b[1;32mimport\u001b[0m \u001b[0mscraper\u001b[0m\u001b[1;33m\u001b[0m\u001b[1;33m\u001b[0m\u001b[0m\n\u001b[1;32m---> 13\u001b[1;33m \u001b[1;32mfrom\u001b[0m \u001b[0mretrieve_data\u001b[0m \u001b[1;32mimport\u001b[0m \u001b[0mget_pricing\u001b[0m\u001b[1;33m\u001b[0m\u001b[1;33m\u001b[0m\u001b[0m\n\u001b[0m",
      "\u001b[1;32m~\\OneDrive - University of Bristol\\Documents\\Quant Projects\\super-data-library\\retrieve_data.py\u001b[0m in \u001b[0;36m<module>\u001b[1;34m\u001b[0m\n\u001b[0;32m      2\u001b[0m \u001b[1;32mfrom\u001b[0m \u001b[0mdatetime\u001b[0m \u001b[1;32mimport\u001b[0m \u001b[0mdatetime\u001b[0m\u001b[1;33m\u001b[0m\u001b[1;33m\u001b[0m\u001b[0m\n\u001b[0;32m      3\u001b[0m \u001b[1;33m\u001b[0m\u001b[0m\n\u001b[1;32m----> 4\u001b[1;33m \u001b[1;32mimport\u001b[0m \u001b[0mvantage_data\u001b[0m \u001b[1;32mas\u001b[0m \u001b[0mapi_tools\u001b[0m\u001b[1;33m\u001b[0m\u001b[1;33m\u001b[0m\u001b[0m\n\u001b[0m\u001b[0;32m      5\u001b[0m \u001b[1;32mimport\u001b[0m \u001b[0mmysql_tools\u001b[0m \u001b[1;32mas\u001b[0m \u001b[0mdb_tools\u001b[0m\u001b[1;33m\u001b[0m\u001b[1;33m\u001b[0m\u001b[0m\n\u001b[0;32m      6\u001b[0m \u001b[1;33m\u001b[0m\u001b[0m\n",
      "\u001b[1;32m~\\OneDrive - University of Bristol\\Documents\\Quant Projects\\super-data-library\\vantage_data.py\u001b[0m in \u001b[0;36m<module>\u001b[1;34m\u001b[0m\n\u001b[0;32m     12\u001b[0m \u001b[0mkey\u001b[0m \u001b[1;33m=\u001b[0m \u001b[1;34m\"\"\u001b[0m\u001b[1;33m\u001b[0m\u001b[1;33m\u001b[0m\u001b[0m\n\u001b[0;32m     13\u001b[0m \u001b[1;33m\u001b[0m\u001b[0m\n\u001b[1;32m---> 14\u001b[1;33m \u001b[0mts\u001b[0m \u001b[1;33m=\u001b[0m \u001b[0mTimeSeries\u001b[0m\u001b[1;33m(\u001b[0m\u001b[0mkey\u001b[0m\u001b[1;33m,\u001b[0m \u001b[0moutput_format\u001b[0m\u001b[1;33m=\u001b[0m\u001b[1;34m'pandas'\u001b[0m\u001b[1;33m)\u001b[0m\u001b[1;33m\u001b[0m\u001b[1;33m\u001b[0m\u001b[0m\n\u001b[0m\u001b[0;32m     15\u001b[0m \u001b[1;33m\u001b[0m\u001b[0m\n\u001b[0;32m     16\u001b[0m \u001b[1;32mdef\u001b[0m \u001b[0mget_data\u001b[0m\u001b[1;33m(\u001b[0m\u001b[0msymbol\u001b[0m\u001b[1;33m)\u001b[0m\u001b[1;33m:\u001b[0m\u001b[1;33m\u001b[0m\u001b[1;33m\u001b[0m\u001b[0m\n",
      "\u001b[1;32m~\\AppData\\Local\\Continuum\\anaconda3\\lib\\site-packages\\alpha_vantage\\alphavantage.py\u001b[0m in \u001b[0;36m__init__\u001b[1;34m(self, key, output_format, treat_info_as_error, indexing_type, proxy, rapidapi)\u001b[0m\n\u001b[0;32m     47\u001b[0m             \u001b[0mkey\u001b[0m \u001b[1;33m=\u001b[0m \u001b[0mos\u001b[0m\u001b[1;33m.\u001b[0m\u001b[0mgetenv\u001b[0m\u001b[1;33m(\u001b[0m\u001b[1;34m'ALPHAVANTAGE_API_KEY'\u001b[0m\u001b[1;33m)\u001b[0m\u001b[1;33m\u001b[0m\u001b[1;33m\u001b[0m\u001b[0m\n\u001b[0;32m     48\u001b[0m         \u001b[1;32mif\u001b[0m \u001b[1;32mnot\u001b[0m \u001b[0mkey\u001b[0m \u001b[1;32mor\u001b[0m \u001b[1;32mnot\u001b[0m \u001b[0misinstance\u001b[0m\u001b[1;33m(\u001b[0m\u001b[0mkey\u001b[0m\u001b[1;33m,\u001b[0m \u001b[0mstr\u001b[0m\u001b[1;33m)\u001b[0m\u001b[1;33m:\u001b[0m\u001b[1;33m\u001b[0m\u001b[1;33m\u001b[0m\u001b[0m\n\u001b[1;32m---> 49\u001b[1;33m             raise ValueError('The AlphaVantage API key must be provided '\n\u001b[0m\u001b[0;32m     50\u001b[0m                              \u001b[1;34m'either through the key parameter or '\u001b[0m\u001b[1;33m\u001b[0m\u001b[1;33m\u001b[0m\u001b[0m\n\u001b[0;32m     51\u001b[0m                              \u001b[1;34m'through the environment variable '\u001b[0m\u001b[1;33m\u001b[0m\u001b[1;33m\u001b[0m\u001b[0m\n",
      "\u001b[1;31mValueError\u001b[0m: The AlphaVantage API key must be provided either through the key parameter or through the environment variable ALPHAVANTAGE_API_KEY. Get a free key from the alphavantage website: https://www.alphavantage.co/support/#api-key"
     ]
    }
   ],
   "source": [
    "import time\n",
    "import datetime\n",
    "import random\n",
    "import json\n",
    "\n",
    "import pandas as pd\n",
    "import numpy as np\n",
    "import statsmodels.api as sm\n",
    "from statsmodels.tsa.stattools import coint, adfuller\n",
    "import matplotlib.pyplot as plt\n",
    "\n",
    "import scraper\n",
    "from retrieve_data import get_pricing\n"
   ]
  },
  {
   "cell_type": "markdown",
   "metadata": {},
   "source": [
    "We can load the dictionaries that take Industries and Sectors to their S&P500 constituent stocks from our json file that was generated using the scraper.py "
   ]
  },
  {
   "cell_type": "code",
   "execution_count": 14,
   "metadata": {},
   "outputs": [],
   "source": [
    "# with open('industry_to_stocks') as f:\n",
    "#     industry_to_stocks = json.load(f)\n",
    "\n",
    "# with open('sector_to_stocks') as f:\n",
    "#     sector_to_stocks = json.load(f)"
   ]
  },
  {
   "cell_type": "markdown",
   "metadata": {},
   "source": [
    "If this is out-of-date, uncomment and use the following:"
   ]
  },
  {
   "cell_type": "code",
   "execution_count": null,
   "metadata": {},
   "outputs": [],
   "source": [
    "# sp500 = scraper.sp500\n",
    "# industry_to_stocks, sector_to_stocks = scraper.generate_industry_sector_YF(stocks)\n",
    "\n",
    "\n",
    "\n",
    "# You can use the following code to store these dictionaries as JSON files for future use and import them using\n",
    "# the code in the cell above.\n",
    "\n",
    "# with open('sector_to_stocks', 'w') as f:\n",
    "#     json.dump(sector_to_stocks, f)\n",
    "\n",
    "# with open('industry_to_stocks', 'w') as f:\n",
    "#     json.dump(industry_to_stocks, f)"
   ]
  },
  {
   "cell_type": "markdown",
   "metadata": {},
   "source": [
    "We will now test that our retrieval and storage system works. The airlines data is already in my database and so the system should print that it is retrieving the data from there."
   ]
  },
  {
   "cell_type": "code",
   "execution_count": 17,
   "metadata": {},
   "outputs": [
    {
     "name": "stdout",
     "output_type": "stream",
     "text": [
      "['ALK', 'AAL', 'DAL', 'UAL']\n"
     ]
    }
   ],
   "source": [
    "start_date = \"2016-01-01\"\n",
    "end_date = \"2016-12-31\"\n",
    "airlines = sector_to_stocks[\"Airlines\"]\n",
    "print(airlines)"
   ]
  },
  {
   "cell_type": "code",
   "execution_count": 18,
   "metadata": {},
   "outputs": [
    {
     "name": "stdout",
     "output_type": "stream",
     "text": [
      "From db: ALK\n",
      "From db: AAL\n",
      "From db: DAL\n",
      "From db: UAL\n"
     ]
    },
    {
     "data": {
      "text/html": [
       "<div>\n",
       "<style scoped>\n",
       "    .dataframe tbody tr th:only-of-type {\n",
       "        vertical-align: middle;\n",
       "    }\n",
       "\n",
       "    .dataframe tbody tr th {\n",
       "        vertical-align: top;\n",
       "    }\n",
       "\n",
       "    .dataframe thead th {\n",
       "        text-align: right;\n",
       "    }\n",
       "</style>\n",
       "<table border=\"1\" class=\"dataframe\">\n",
       "  <thead>\n",
       "    <tr style=\"text-align: right;\">\n",
       "      <th></th>\n",
       "      <th>ALK</th>\n",
       "      <th>AAL</th>\n",
       "      <th>DAL</th>\n",
       "      <th>UAL</th>\n",
       "    </tr>\n",
       "    <tr>\n",
       "      <th>date</th>\n",
       "      <th></th>\n",
       "      <th></th>\n",
       "      <th></th>\n",
       "      <th></th>\n",
       "    </tr>\n",
       "  </thead>\n",
       "  <tbody>\n",
       "    <tr>\n",
       "      <td>2016-01-04</td>\n",
       "      <td>72.5140</td>\n",
       "      <td>39.0926</td>\n",
       "      <td>44.2305</td>\n",
       "      <td>55.61</td>\n",
       "    </tr>\n",
       "    <tr>\n",
       "      <td>2016-01-05</td>\n",
       "      <td>71.3024</td>\n",
       "      <td>38.7199</td>\n",
       "      <td>44.1487</td>\n",
       "      <td>55.06</td>\n",
       "    </tr>\n",
       "    <tr>\n",
       "      <td>2016-01-06</td>\n",
       "      <td>72.3291</td>\n",
       "      <td>39.3984</td>\n",
       "      <td>44.4759</td>\n",
       "      <td>55.20</td>\n",
       "    </tr>\n",
       "    <tr>\n",
       "      <td>2016-01-07</td>\n",
       "      <td>68.4351</td>\n",
       "      <td>38.6530</td>\n",
       "      <td>42.7216</td>\n",
       "      <td>52.63</td>\n",
       "    </tr>\n",
       "    <tr>\n",
       "      <td>2016-01-08</td>\n",
       "      <td>65.0962</td>\n",
       "      <td>38.5766</td>\n",
       "      <td>42.3671</td>\n",
       "      <td>51.89</td>\n",
       "    </tr>\n",
       "  </tbody>\n",
       "</table>\n",
       "</div>"
      ],
      "text/plain": [
       "                ALK      AAL      DAL    UAL\n",
       "date                                        \n",
       "2016-01-04  72.5140  39.0926  44.2305  55.61\n",
       "2016-01-05  71.3024  38.7199  44.1487  55.06\n",
       "2016-01-06  72.3291  39.3984  44.4759  55.20\n",
       "2016-01-07  68.4351  38.6530  42.7216  52.63\n",
       "2016-01-08  65.0962  38.5766  42.3671  51.89"
      ]
     },
     "execution_count": 18,
     "metadata": {},
     "output_type": "execute_result"
    }
   ],
   "source": [
    "prices_2016 = get_pricing(airlines, start_date, end_date)\n",
    "prices_2016.head()"
   ]
  },
  {
   "cell_type": "code",
   "execution_count": null,
   "metadata": {},
   "outputs": [],
   "source": [
    "prices_2016.plot()\n",
    "plot.legend()"
   ]
  },
  {
   "cell_type": "markdown",
   "metadata": {},
   "source": [
    "Now, we test that the function can accept singletons and can download and store new data. Note that if we call get_pricing twice on the same symbol, it now retrieves the desired data from the database."
   ]
  },
  {
   "cell_type": "code",
   "execution_count": 20,
   "metadata": {},
   "outputs": [
    {
     "name": "stdout",
     "output_type": "stream",
     "text": [
      "Downloading C\n"
     ]
    }
   ],
   "source": [
    "Citi = get_pricing(\"C\", start_date, end_date)"
   ]
  },
  {
   "cell_type": "code",
   "execution_count": 23,
   "metadata": {},
   "outputs": [
    {
     "name": "stdout",
     "output_type": "stream",
     "text": [
      "From db: C\n"
     ]
    },
    {
     "data": {
      "text/html": [
       "<div>\n",
       "<style scoped>\n",
       "    .dataframe tbody tr th:only-of-type {\n",
       "        vertical-align: middle;\n",
       "    }\n",
       "\n",
       "    .dataframe tbody tr th {\n",
       "        vertical-align: top;\n",
       "    }\n",
       "\n",
       "    .dataframe thead th {\n",
       "        text-align: right;\n",
       "    }\n",
       "</style>\n",
       "<table border=\"1\" class=\"dataframe\">\n",
       "  <thead>\n",
       "    <tr style=\"text-align: right;\">\n",
       "      <th></th>\n",
       "      <th>C</th>\n",
       "    </tr>\n",
       "    <tr>\n",
       "      <th>date</th>\n",
       "      <th></th>\n",
       "    </tr>\n",
       "  </thead>\n",
       "  <tbody>\n",
       "    <tr>\n",
       "      <td>2016-01-04</td>\n",
       "      <td>47.1871</td>\n",
       "    </tr>\n",
       "    <tr>\n",
       "      <td>2016-01-05</td>\n",
       "      <td>46.9379</td>\n",
       "    </tr>\n",
       "    <tr>\n",
       "      <td>2016-01-06</td>\n",
       "      <td>46.2550</td>\n",
       "    </tr>\n",
       "    <tr>\n",
       "      <td>2016-01-07</td>\n",
       "      <td>43.8924</td>\n",
       "    </tr>\n",
       "    <tr>\n",
       "      <td>2016-01-08</td>\n",
       "      <td>42.5727</td>\n",
       "    </tr>\n",
       "  </tbody>\n",
       "</table>\n",
       "</div>"
      ],
      "text/plain": [
       "                  C\n",
       "date               \n",
       "2016-01-04  47.1871\n",
       "2016-01-05  46.9379\n",
       "2016-01-06  46.2550\n",
       "2016-01-07  43.8924\n",
       "2016-01-08  42.5727"
      ]
     },
     "execution_count": 23,
     "metadata": {},
     "output_type": "execute_result"
    }
   ],
   "source": [
    "Citi = get_pricing(\"C\", start_date, end_date)\n",
    "Citi.head()"
   ]
  },
  {
   "cell_type": "code",
   "execution_count": 24,
   "metadata": {},
   "outputs": [
    {
     "data": {
      "text/plain": [
       "<matplotlib.axes._subplots.AxesSubplot at 0x27329d1dc88>"
      ]
     },
     "execution_count": 24,
     "metadata": {},
     "output_type": "execute_result"
    },
    {
     "data": {
      "image/png": "[encoded data removed]",
      "text/plain": [
       "<Figure size 432x288 with 1 Axes>"
      ]
     },
     "metadata": {
      "needs_background": "light"
     },
     "output_type": "display_data"
    }
   ],
   "source": [
    "Citi.plot()"
   ]
  }
 ],
 "metadata": {
  "kernelspec": {
   "display_name": "Python 3",
   "language": "python",
   "name": "python3"
  },
  "language_info": {
   "codemirror_mode": {
    "name": "ipython",
    "version": 3
   },
   "file_extension": ".py",
   "mimetype": "text/x-python",
   "name": "python",
   "nbconvert_exporter": "python",
   "pygments_lexer": "ipython3",
   "version": "3.7.4"
  }
 },
 "nbformat": 4,
 "nbformat_minor": 2
}
